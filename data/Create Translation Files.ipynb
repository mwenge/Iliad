{
 "cells": [
  {
   "cell_type": "code",
   "execution_count": 7,
   "metadata": {},
   "outputs": [
    {
     "name": "stdout",
     "output_type": "stream",
     "text": [
      "  % Total    % Received % Xferd  Average Speed   Time    Time     Time  Current\n",
      "                                 Dload  Upload   Total   Spent    Left  Speed\n",
      "100 1107k  100 1107k    0     0   801k      0  0:00:01  0:00:01 --:--:--  802k\n"
     ]
    }
   ],
   "source": [
    "! curl \"https://raw.githubusercontent.com/PerseusDL/canonical-greekLit/master/data/tlg0012/tlg001/tlg0012.tlg001.perseus-eng3.xml\" -o eng.xml"
   ]
  },
  {
   "cell_type": "code",
   "execution_count": 8,
   "metadata": {},
   "outputs": [
    {
     "name": "stdout",
     "output_type": "stream",
     "text": [
      "  % Total    % Received % Xferd  Average Speed   Time    Time     Time  Current\n",
      "                                 Dload  Upload   Total   Spent    Left  Speed\n",
      "100 2012k  100 2012k    0     0  2082k      0 --:--:-- --:--:-- --:--:-- 2080k\n"
     ]
    }
   ],
   "source": [
    "! curl \"https://raw.githubusercontent.com/PerseusDL/canonical-greekLit/master/data/tlg0012/tlg001/tlg0012.tlg001.perseus-grc2.xml\" -o grc.xml"
   ]
  },
  {
   "cell_type": "markdown",
   "metadata": {},
   "source": [
    "First the Greek text:"
   ]
  },
  {
   "cell_type": "code",
   "execution_count": 3,
   "metadata": {},
   "outputs": [],
   "source": [
    "import xml.etree.ElementTree as ET\n",
    "tree = ET.parse('grc.xml')\n",
    "root = tree.getroot()\n",
    "books = {}\n",
    "for book in tree.findall(\".//*[@subtype='Book']\"):\n",
    "    lines = {}\n",
    "    line_els = book.findall('.//{*}l')\n",
    "    for l in line_els:\n",
    "        lines[int(l.attrib[\"n\"])] = \"\".join(l.itertext()).strip()\n",
    "    books[int(book.attrib[\"n\"])] = lines\n",
    "    #print(elem.get(\"n\"))"
   ]
  },
  {
   "cell_type": "code",
   "execution_count": 215,
   "metadata": {},
   "outputs": [
    {
     "data": {
      "text/plain": [
       "'οὐλομένην, ἣ μυρίʼ Ἀχαιοῖς ἄλγεʼ ἔθηκε,'"
      ]
     },
     "execution_count": 215,
     "metadata": {},
     "output_type": "execute_result"
    }
   ],
   "source": [
    "books[1][2]"
   ]
  },
  {
   "cell_type": "markdown",
   "metadata": {},
   "source": [
    "Then the English text:"
   ]
  },
  {
   "cell_type": "code",
   "execution_count": 8,
   "metadata": {},
   "outputs": [],
   "source": [
    "def parseCard(root, tr_lines = {}, cur = 0, cur_text = \"\"):\n",
    "    for item in root:\n",
    "        if item.text and item.tag != \"{http://www.tei-c.org/ns/1.0}note\":\n",
    "            cur_text += item.text\n",
    "        if item.tag == \"{http://www.tei-c.org/ns/1.0}milestone\":\n",
    "            if cur: tr_lines[cur] = cur_text.strip() + ' '\n",
    "            cur_text = \"\"\n",
    "            new_cur = int(item.attrib[\"n\"])\n",
    "            cur = new_cur + 1 if new_cur != 1 else 1\n",
    "        cur_text, cur, tr_lines = parseCard(item, tr_lines, cur, cur_text)\n",
    "        if item.tail:\n",
    "            cur_text += item.tail.strip() + ' '\n",
    "    return (cur_text, cur, tr_lines)\n"
   ]
  },
  {
   "cell_type": "code",
   "execution_count": 9,
   "metadata": {},
   "outputs": [
    {
     "name": "stdout",
     "output_type": "stream",
     "text": [
      "how much mightier I am than you, and another may shrink from declaring himself my equal and likening himself to me to my face. So he spoke. Grief came upon the son of Peleus, and within his shaggy breast his heart was divided, whether he should draw his sharp sword from beside his thigh, \n"
     ]
    }
   ],
   "source": [
    "import xml.etree.ElementTree as ET\n",
    "\n",
    "tree = ET.parse('eng.xml')\n",
    "root = tree.getroot()\n",
    "tr_books = {}\n",
    "for book in tree.findall(\".//*[@subtype='book']\"):\n",
    "    card_els = book.findall(\".//*[@subtype='card']\")\n",
    "    tr_lines = {}\n",
    "    for l in card_els:\n",
    "        cur = int(l.attrib[\"n\"])\n",
    "        cur_text, cur, tr_lines = parseCard(l, tr_lines, cur)\n",
    "        tr_lines[cur] = cur_text.strip()\n",
    "    tr_books[int(book.attrib[\"n\"])] = tr_lines.copy()\n",
    "    #print(elem.get(\"n\"))\n",
    "print(tr_books[1][186])\n"
   ]
  },
  {
   "cell_type": "code",
   "execution_count": 44,
   "metadata": {},
   "outputs": [],
   "source": [
    "import base64\n",
    "output_dir = \"../translation/\"\n",
    "\n",
    "for k, book in books.items():\n",
    "    tr_book = tr_books[k]\n",
    "\n",
    "    output_file = open(output_dir + f\"translation{k}.js\", 'w')\n",
    "    output_file.write(\"var translation = {\\n\")\n",
    "    \n",
    "    pi = 0\n",
    "    lines_in_book = list(book.keys())\n",
    "    for i in range(1, max(lines_in_book)+1):\n",
    "        if i not in tr_book:\n",
    "            output_file.write(f\"{i}: {pi},\\n\")\n",
    "            continue\n",
    "        tr = base64.b64encode(bytes(tr_book[i], 'utf-8')).decode(\"ascii\")\n",
    "        output_file.write(f\"{i}: '{tr}',\\n\")\n",
    "        pi = i\n",
    "    output_file.write(\"}\\n\")\n"
   ]
  },
  {
   "cell_type": "code",
   "execution_count": null,
   "metadata": {},
   "outputs": [],
   "source": [
    "return base64.b64encode(ET.tostring(translation, encoding=\"unicode\").encode()).decode(\"ascii\") \n"
   ]
  },
  {
   "cell_type": "code",
   "execution_count": 99,
   "metadata": {},
   "outputs": [
    {
     "name": "stdout",
     "output_type": "stream",
     "text": [
      "ὣς ἔφατʼ, ἔδεισεν δʼ ὃ γέρων καὶ ἐπείθετο μύθῳ·\n",
      "\n",
      "\n",
      "So he spoke, and the old man was seized with fear and obeyed his word.\n",
      "-----------------------\n",
      "βῆ δʼ ἀκέων παρὰ θῖνα πολυφλοίσβοιο θαλάσσης·\n",
      "\n",
      "\n",
      "So he spoke in prayer, and Phoebus Apollo heard him.\n",
      "-----------------------\n",
      "πολλὰ δʼ ἔπειτʼ ἀπάνευθε κιὼν ἠρᾶθʼ ὃ γεραιὸς\n",
      "Ἀπόλλωνι ἄνακτι, τὸν ἠΰκομος τέκε Λητώ·\n",
      "\n",
      "\n",
      "  Down from the peaks of Olympus he strode, angered at heart, bearing on his shoulders his bow and covered quiver.\n",
      "-----------------------\n",
      "κλῦθί μευ ἀργυρότοξʼ, ὃς Χρύσην ἀμφιβέβηκας\n",
      "Κίλλαν τε ζαθέην Τενέδοιό τε ἶφι ἀνάσσεις,\n",
      "Σμινθεῦ εἴ ποτέ τοι χαρίεντʼ ἐπὶ νηὸν ἔρεψα,\n",
      "ἢ εἰ δή ποτέ τοι κατὰ πίονα μηρίʼ ἔκηα\n",
      "ταύρων ἠδʼ αἰγῶν, τὸ δέ μοι κρήηνον ἐέλδωρ·\n",
      "\n",
      "\n",
      "The arrows rattled on the shoulders of the angry god as he moved, and his coming was like the night.\n",
      "-----------------------\n",
      "τίσειαν Δαναοὶ ἐμὰ δάκρυα σοῖσι βέλεσσιν.\n",
      "\n",
      "\n",
      "  Then he sat down apart from the ships and let fly an arrow: terrible was the twang of the silver bow.\n",
      "-----------------------\n",
      "ὣς ἔφατʼ εὐχόμενος, τοῦ δʼ ἔκλυε Φοῖβος Ἀπόλλων,\n",
      "βῆ δὲ κατʼ Οὐλύμποιο καρήνων χωόμενος κῆρ,\n",
      "τόξʼ ὤμοισιν ἔχων ἀμφηρεφέα τε φαρέτρην·\n",
      "\n",
      "\n",
      "  The mules he assailed first and the swift dogs,but then on the men themselves he let fly his stinging shafts, and struck;\n",
      "-----------------------\n",
      "ἔκλαγξαν δʼ ἄρʼ ὀϊστοὶ ἐπʼ ὤμων χωομένοιο,\n",
      "αὐτοῦ κινηθέντος· ὃ δʼ ἤϊε νυκτὶ ἐοικώς.\n",
      "\n",
      "\n",
      " and constantly the pyres of the dead burned thick.\n",
      "-----------------------\n",
      "ἕζετʼ ἔπειτʼ ἀπάνευθε νεῶν, μετὰ δʼ ἰὸν ἕηκε·\n",
      "\n",
      "\n",
      "For nine days the missiles of the god ranged among the host, but on the tenth Achilles called the people to assembly, for the goddess, white-armed Hera, had put it in his heart,since she pitied the Danaans, when she saw them dying.\n",
      "-----------------------\n",
      "δεινὴ δὲ κλαγγὴ γένετʼ ἀργυρέοιο βιοῖο·\n",
      "\n",
      "\n",
      "Son of Atreus, now I think we shall return home, beaten back again, should we even escape death,if war and pestilence alike are to ravage the Achaeans.\n",
      "-----------------------\n",
      "οὐρῆας μὲν πρῶτον ἐπῴχετο καὶ κύνας ἀργούς,\n",
      "αὐτὰρ ἔπειτʼ αὐτοῖσι βέλος ἐχεπευκὲς ἐφιεὶς\n",
      "βάλλʼ· αἰεὶ δὲ πυραὶ νεκύων καίοντο θαμειαί.\n",
      "\n",
      "\n",
      "  But come, let us ask some seer or priest, or some reader of dreams—for a dream too is from Zeus—who might say why Phoebus Apollo is so angry, whether he finds fault with a vow or a hecatomb;\n",
      "-----------------------\n",
      "ἐννῆμαρ μὲν ἀνὰ στρατὸν ᾤχετο κῆλα θεοῖο,\n",
      "τῇ δεκάτῃ δʼ ἀγορὴν δὲ καλέσσατο λαὸν Ἀχιλλεύς·\n",
      "\n",
      "\n",
      "in hope that he may accept the savour of lambs and unblemished goats, and be willing to ward off the pestilence from us.\n",
      "-----------------------\n",
      "τῷ γὰρ ἐπὶ φρεσὶ θῆκε θεὰ λευκώλενος Ἥρη·\n",
      "\n",
      "\n"
     ]
    },
    {
     "ename": "IndexError",
     "evalue": "list index out of range",
     "output_type": "error",
     "traceback": [
      "\u001b[0;31m---------------------------------------------------------------------------\u001b[0m",
      "\u001b[0;31mIndexError\u001b[0m                                Traceback (most recent call last)",
      "\u001b[0;32m<ipython-input-99-591b2fbb38f7>\u001b[0m in \u001b[0;36m<module>\u001b[0;34m\u001b[0m\n\u001b[1;32m     12\u001b[0m     \u001b[0mprint\u001b[0m\u001b[0;34m(\u001b[0m\u001b[0ms\u001b[0m\u001b[0;34m)\u001b[0m\u001b[0;34m\u001b[0m\u001b[0;34m\u001b[0m\u001b[0m\n\u001b[1;32m     13\u001b[0m     \u001b[0mprint\u001b[0m\u001b[0;34m(\u001b[0m\u001b[0;34m'\\n'\u001b[0m\u001b[0;34m)\u001b[0m\u001b[0;34m\u001b[0m\u001b[0;34m\u001b[0m\u001b[0m\n\u001b[0;32m---> 14\u001b[0;31m     \u001b[0mprint\u001b[0m\u001b[0;34m(\u001b[0m\u001b[0mtr_segments\u001b[0m\u001b[0;34m[\u001b[0m\u001b[0mi\u001b[0m\u001b[0;34m]\u001b[0m\u001b[0;34m)\u001b[0m\u001b[0;34m\u001b[0m\u001b[0;34m\u001b[0m\u001b[0m\n\u001b[0m\u001b[1;32m     15\u001b[0m     \u001b[0mprint\u001b[0m\u001b[0;34m(\u001b[0m\u001b[0;34m'-----------------------'\u001b[0m\u001b[0;34m)\u001b[0m\u001b[0;34m\u001b[0m\u001b[0;34m\u001b[0m\u001b[0m\n",
      "\u001b[0;31mIndexError\u001b[0m: list index out of range"
     ]
    }
   ],
   "source": [
    "import re\n",
    "\n",
    "lines = [l for l in [books[\"1\"][str(i)] for i in range(33,68)]]\n",
    "breaks = [0] + [i+1 for i,l in enumerate(lines) if any(x in ['·',';','.'] for x in l)]\n",
    "gr_segments = []\n",
    "for i in range(0, len(breaks)-1):\n",
    "    f = breaks[i]\n",
    "    t = breaks[i+1]\n",
    "    gr_segments += [\"\\n\".join(lines[f:t])]\n",
    "tr_segments = re.findall('.*?[.\\.\\?;]', tr_books[\"1\"][\"33\"])\n",
    "for i,s in enumerate(gr_segments):\n",
    "    print(s)\n",
    "    print('\\n')\n",
    "    print(tr_segments[i])\n",
    "    print('-----------------------')\n"
   ]
  }
 ],
 "metadata": {
  "kernelspec": {
   "display_name": "Python 3",
   "language": "python",
   "name": "python3"
  },
  "language_info": {
   "codemirror_mode": {
    "name": "ipython",
    "version": 3
   },
   "file_extension": ".py",
   "mimetype": "text/x-python",
   "name": "python",
   "nbconvert_exporter": "python",
   "pygments_lexer": "ipython3",
   "version": "3.8.10"
  }
 },
 "nbformat": 4,
 "nbformat_minor": 4
}
